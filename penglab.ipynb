#Install of hashcat
print("Installation of hashcat...")
!apt install cmake build-essential -y
!apt install checkinstall git -y
!git clone https://github.com/hashcat/hashcat.git && cd hashcat && make -j 8 && make install

# install Rockyou password list
!printf "[+] Downloading the Rockyou wordlist...\n"
!cd $wordlists_dir && wget https://download.weakpass.com/wordlists/90/rockyou.txt.gz
!printf "[+] Wordlist downloaded !\n[+] Extraction...\n"
!cd $wordlists_dir && gunzip rockyou.txt.gz
!printf "[+] Finished !\n[+] Location : $(pwd)/$wordlists_dir/$(ls wordlists | grep rockyou)"

# run bash in google colab
!pip install kora
from kora import console
console.start()  # and click link
